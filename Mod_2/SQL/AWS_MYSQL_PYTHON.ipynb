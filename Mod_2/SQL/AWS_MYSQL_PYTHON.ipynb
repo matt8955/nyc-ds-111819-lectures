{
 "cells": [
  {
   "cell_type": "markdown",
   "metadata": {},
   "source": [
    "# Combining Python, SQL DBs and AWS"
   ]
  },
  {
   "cell_type": "markdown",
   "metadata": {},
   "source": [
    "## Aim: Create a RDB instance on AWS, connect to it through python, and execute queries.  \n"
   ]
  },
  {
   "cell_type": "markdown",
   "metadata": {},
   "source": [
    "## Create an instance on AWS  \n",
    "    \n",
    "https://aws.amazon.com/getting-started/tutorials/create-mysql-db/"
   ]
  },
  {
   "cell_type": "markdown",
   "metadata": {},
   "source": [
    "##  Using MYSQLWorkbench\n",
    "\n",
    "Before we complicate things with using Python, we want to use MYSQLWorkbench to make sure we set up our AWS server correctly and can connect to it.  \n",
    "\n",
    "- Create a connection to the AWS server\n",
    "- Execute a simple create table query\n",
    "- Drop the table\n"
   ]
  },
  {
   "cell_type": "markdown",
   "metadata": {},
   "source": [
    "# Using Python with MYSQL DB"
   ]
  },
  {
   "cell_type": "code",
   "execution_count": null,
   "metadata": {},
   "outputs": [],
   "source": [
    "# make sure we have the package installed\n",
    "#!pip install mysql-connector-python"
   ]
  },
  {
   "cell_type": "code",
   "execution_count": 1,
   "metadata": {},
   "outputs": [],
   "source": [
    "## importing 'mysql.connector' \n",
    "import mysql.connector "
   ]
  },
  {
   "cell_type": "code",
   "execution_count": 2,
   "metadata": {},
   "outputs": [
    {
     "ename": "ProgrammingError",
     "evalue": "1045 (28000): Access denied for user 'root'@'localhost' (using password: YES)",
     "output_type": "error",
     "traceback": [
      "\u001b[0;31m---------------------------------------------------------------------------\u001b[0m",
      "\u001b[0;31mMySQLInterfaceError\u001b[0m                       Traceback (most recent call last)",
      "\u001b[0;32m~/.pyenv/versions/anaconda3-2019.10/lib/python3.7/site-packages/mysql/connector/connection_cext.py\u001b[0m in \u001b[0;36m_open_connection\u001b[0;34m(self)\u001b[0m\n\u001b[1;32m    199\u001b[0m         \u001b[0;32mtry\u001b[0m\u001b[0;34m:\u001b[0m\u001b[0;34m\u001b[0m\u001b[0;34m\u001b[0m\u001b[0m\n\u001b[0;32m--> 200\u001b[0;31m             \u001b[0mself\u001b[0m\u001b[0;34m.\u001b[0m\u001b[0m_cmysql\u001b[0m\u001b[0;34m.\u001b[0m\u001b[0mconnect\u001b[0m\u001b[0;34m(\u001b[0m\u001b[0;34m**\u001b[0m\u001b[0mcnx_kwargs\u001b[0m\u001b[0;34m)\u001b[0m\u001b[0;34m\u001b[0m\u001b[0;34m\u001b[0m\u001b[0m\n\u001b[0m\u001b[1;32m    201\u001b[0m         \u001b[0;32mexcept\u001b[0m \u001b[0mMySQLInterfaceError\u001b[0m \u001b[0;32mas\u001b[0m \u001b[0mexc\u001b[0m\u001b[0;34m:\u001b[0m\u001b[0;34m\u001b[0m\u001b[0;34m\u001b[0m\u001b[0m\n",
      "\u001b[0;31mMySQLInterfaceError\u001b[0m: Access denied for user 'root'@'localhost' (using password: YES)",
      "\nDuring handling of the above exception, another exception occurred:\n",
      "\u001b[0;31mProgrammingError\u001b[0m                          Traceback (most recent call last)",
      "\u001b[0;32m<ipython-input-2-10f6d7a157fd>\u001b[0m in \u001b[0;36m<module>\u001b[0;34m\u001b[0m\n\u001b[1;32m      6\u001b[0m     \u001b[0mhost\u001b[0m \u001b[0;34m=\u001b[0m \u001b[0;34m\"localhost\"\u001b[0m\u001b[0;34m,\u001b[0m\u001b[0;34m\u001b[0m\u001b[0;34m\u001b[0m\u001b[0m\n\u001b[1;32m      7\u001b[0m     \u001b[0muser\u001b[0m \u001b[0;34m=\u001b[0m \u001b[0;34m\"root\"\u001b[0m\u001b[0;34m,\u001b[0m\u001b[0;34m\u001b[0m\u001b[0;34m\u001b[0m\u001b[0m\n\u001b[0;32m----> 8\u001b[0;31m     \u001b[0mpasswd\u001b[0m \u001b[0;34m=\u001b[0m \u001b[0;34m\"dbms\"\u001b[0m\u001b[0;34m\u001b[0m\u001b[0;34m\u001b[0m\u001b[0m\n\u001b[0m\u001b[1;32m      9\u001b[0m )\n",
      "\u001b[0;32m~/.pyenv/versions/anaconda3-2019.10/lib/python3.7/site-packages/mysql/connector/__init__.py\u001b[0m in \u001b[0;36mconnect\u001b[0;34m(*args, **kwargs)\u001b[0m\n\u001b[1;32m    174\u001b[0m \u001b[0;34m\u001b[0m\u001b[0m\n\u001b[1;32m    175\u001b[0m     \u001b[0;32mif\u001b[0m \u001b[0mHAVE_CEXT\u001b[0m \u001b[0;32mand\u001b[0m \u001b[0;32mnot\u001b[0m \u001b[0muse_pure\u001b[0m\u001b[0;34m:\u001b[0m\u001b[0;34m\u001b[0m\u001b[0;34m\u001b[0m\u001b[0m\n\u001b[0;32m--> 176\u001b[0;31m         \u001b[0;32mreturn\u001b[0m \u001b[0mCMySQLConnection\u001b[0m\u001b[0;34m(\u001b[0m\u001b[0;34m*\u001b[0m\u001b[0margs\u001b[0m\u001b[0;34m,\u001b[0m \u001b[0;34m**\u001b[0m\u001b[0mkwargs\u001b[0m\u001b[0;34m)\u001b[0m\u001b[0;34m\u001b[0m\u001b[0;34m\u001b[0m\u001b[0m\n\u001b[0m\u001b[1;32m    177\u001b[0m     \u001b[0;32mreturn\u001b[0m \u001b[0mMySQLConnection\u001b[0m\u001b[0;34m(\u001b[0m\u001b[0;34m*\u001b[0m\u001b[0margs\u001b[0m\u001b[0;34m,\u001b[0m \u001b[0;34m**\u001b[0m\u001b[0mkwargs\u001b[0m\u001b[0;34m)\u001b[0m\u001b[0;34m\u001b[0m\u001b[0;34m\u001b[0m\u001b[0m\n\u001b[1;32m    178\u001b[0m \u001b[0mConnect\u001b[0m \u001b[0;34m=\u001b[0m \u001b[0mconnect\u001b[0m  \u001b[0;31m# pylint: disable=C0103\u001b[0m\u001b[0;34m\u001b[0m\u001b[0;34m\u001b[0m\u001b[0m\n",
      "\u001b[0;32m~/.pyenv/versions/anaconda3-2019.10/lib/python3.7/site-packages/mysql/connector/connection_cext.py\u001b[0m in \u001b[0;36m__init__\u001b[0;34m(self, **kwargs)\u001b[0m\n\u001b[1;32m     78\u001b[0m \u001b[0;34m\u001b[0m\u001b[0m\n\u001b[1;32m     79\u001b[0m         \u001b[0;32mif\u001b[0m \u001b[0mkwargs\u001b[0m\u001b[0;34m:\u001b[0m\u001b[0;34m\u001b[0m\u001b[0;34m\u001b[0m\u001b[0m\n\u001b[0;32m---> 80\u001b[0;31m             \u001b[0mself\u001b[0m\u001b[0;34m.\u001b[0m\u001b[0mconnect\u001b[0m\u001b[0;34m(\u001b[0m\u001b[0;34m**\u001b[0m\u001b[0mkwargs\u001b[0m\u001b[0;34m)\u001b[0m\u001b[0;34m\u001b[0m\u001b[0;34m\u001b[0m\u001b[0m\n\u001b[0m\u001b[1;32m     81\u001b[0m \u001b[0;34m\u001b[0m\u001b[0m\n\u001b[1;32m     82\u001b[0m     \u001b[0;32mdef\u001b[0m \u001b[0m_add_default_conn_attrs\u001b[0m\u001b[0;34m(\u001b[0m\u001b[0mself\u001b[0m\u001b[0;34m)\u001b[0m\u001b[0;34m:\u001b[0m\u001b[0;34m\u001b[0m\u001b[0;34m\u001b[0m\u001b[0m\n",
      "\u001b[0;32m~/.pyenv/versions/anaconda3-2019.10/lib/python3.7/site-packages/mysql/connector/abstracts.py\u001b[0m in \u001b[0;36mconnect\u001b[0;34m(self, **kwargs)\u001b[0m\n\u001b[1;32m    779\u001b[0m \u001b[0;34m\u001b[0m\u001b[0m\n\u001b[1;32m    780\u001b[0m         \u001b[0mself\u001b[0m\u001b[0;34m.\u001b[0m\u001b[0mdisconnect\u001b[0m\u001b[0;34m(\u001b[0m\u001b[0;34m)\u001b[0m\u001b[0;34m\u001b[0m\u001b[0;34m\u001b[0m\u001b[0m\n\u001b[0;32m--> 781\u001b[0;31m         \u001b[0mself\u001b[0m\u001b[0;34m.\u001b[0m\u001b[0m_open_connection\u001b[0m\u001b[0;34m(\u001b[0m\u001b[0;34m)\u001b[0m\u001b[0;34m\u001b[0m\u001b[0;34m\u001b[0m\u001b[0m\n\u001b[0m\u001b[1;32m    782\u001b[0m         \u001b[0;31m# Server does not allow to run any other statement different from ALTER\u001b[0m\u001b[0;34m\u001b[0m\u001b[0;34m\u001b[0m\u001b[0;34m\u001b[0m\u001b[0m\n\u001b[1;32m    783\u001b[0m         \u001b[0;31m# when user's password has been expired.\u001b[0m\u001b[0;34m\u001b[0m\u001b[0;34m\u001b[0m\u001b[0;34m\u001b[0m\u001b[0m\n",
      "\u001b[0;32m~/.pyenv/versions/anaconda3-2019.10/lib/python3.7/site-packages/mysql/connector/connection_cext.py\u001b[0m in \u001b[0;36m_open_connection\u001b[0;34m(self)\u001b[0m\n\u001b[1;32m    201\u001b[0m         \u001b[0;32mexcept\u001b[0m \u001b[0mMySQLInterfaceError\u001b[0m \u001b[0;32mas\u001b[0m \u001b[0mexc\u001b[0m\u001b[0;34m:\u001b[0m\u001b[0;34m\u001b[0m\u001b[0;34m\u001b[0m\u001b[0m\n\u001b[1;32m    202\u001b[0m             raise errors.get_mysql_exception(msg=exc.msg, errno=exc.errno,\n\u001b[0;32m--> 203\u001b[0;31m                                              sqlstate=exc.sqlstate)\n\u001b[0m\u001b[1;32m    204\u001b[0m         \u001b[0mself\u001b[0m\u001b[0;34m.\u001b[0m\u001b[0m_do_handshake\u001b[0m\u001b[0;34m(\u001b[0m\u001b[0;34m)\u001b[0m\u001b[0;34m\u001b[0m\u001b[0;34m\u001b[0m\u001b[0m\n\u001b[1;32m    205\u001b[0m \u001b[0;34m\u001b[0m\u001b[0m\n",
      "\u001b[0;31mProgrammingError\u001b[0m: 1045 (28000): Access denied for user 'root'@'localhost' (using password: YES)"
     ]
    }
   ],
   "source": [
    "## Connecting to the database\n",
    "\n",
    "## connecting to the database using 'connect()' method\n",
    "## it takes 3 required parameters 'host', 'user', 'passwd'\n",
    "cnx = mysql.connector .connect(\n",
    "    host = \"localhost\",\n",
    "    user = \"root\",\n",
    "    passwd = \"dbms\"\n",
    ")"
   ]
  },
  {
   "cell_type": "markdown",
   "metadata": {},
   "source": [
    "### Documentation:\n",
    "\n",
    "https://dev.mysql.com/doc/connector-python/en/connector-python-connectargs.html"
   ]
  },
  {
   "cell_type": "markdown",
   "metadata": {},
   "source": [
    "## Using a config File:\n",
    "\n",
    "You do not want to make your credentials viewable to everyone who might see this file.  So instead of explicity stating your credentials, we want to import them from another file.  "
   ]
  },
  {
   "cell_type": "code",
   "execution_count": 3,
   "metadata": {},
   "outputs": [],
   "source": [
    "import config"
   ]
  },
  {
   "cell_type": "code",
   "execution_count": null,
   "metadata": {},
   "outputs": [],
   "source": [
    "config.pw_example"
   ]
  },
  {
   "cell_type": "code",
   "execution_count": 5,
   "metadata": {},
   "outputs": [
    {
     "name": "stdout",
     "output_type": "stream",
     "text": [
      "<mysql.connector.connection.MySQLConnection object at 0x112aebe80>\n"
     ]
    }
   ],
   "source": [
    "## Connecting to the database\n",
    "\n",
    "## connecting to the database using 'connect()' method\n",
    "## it takes 3 required parameters 'host', 'user', 'passwd'\n",
    "cnx = mysql.connector .connect(\n",
    "    host = config.host,\n",
    "    user = config.user,\n",
    "    passwd = config.password\n",
    ")\n",
    "\n",
    "print(cnx) # it will print a connection object if everything is fine\n"
   ]
  },
  {
   "cell_type": "code",
   "execution_count": 6,
   "metadata": {},
   "outputs": [],
   "source": [
    "cursor = cnx.cursor()"
   ]
  },
  {
   "cell_type": "markdown",
   "metadata": {},
   "source": [
    "## Creating DB"
   ]
  },
  {
   "cell_type": "code",
   "execution_count": 7,
   "metadata": {},
   "outputs": [],
   "source": [
    "import mysql.connector\n",
    "from mysql.connector import errorcode"
   ]
  },
  {
   "cell_type": "code",
   "execution_count": 8,
   "metadata": {},
   "outputs": [],
   "source": [
    "db_name = 'employees'"
   ]
  },
  {
   "cell_type": "code",
   "execution_count": 9,
   "metadata": {},
   "outputs": [],
   "source": [
    "def create_database(cursor, database):\n",
    "    try:\n",
    "        cursor.execute(\n",
    "            \"CREATE DATABASE {} DEFAULT CHARACTER SET 'utf8'\".format(database))\n",
    "    except mysql.connector.Error as err:\n",
    "        print(\"Failed creating database: {}\".format(err))\n",
    "        exit(1)\n",
    "\n",
    "try:\n",
    "    cursor.execute(\"USE {}\".format(db_name))\n",
    "except mysql.connector.Error as err:\n",
    "    print(\"Database {} does not exists.\".format(db_name))\n",
    "    if err.errno == errorcode.ER_BAD_DB_ERROR:\n",
    "        create_database(cursor, db_name)\n",
    "        print(\"Database {} created successfully.\".format(db_name))\n",
    "        cnx.database = db_name\n",
    "    else:\n",
    "        print(err)\n",
    "        exit(1)"
   ]
  },
  {
   "cell_type": "markdown",
   "metadata": {},
   "source": [
    "### Creating tables"
   ]
  },
  {
   "cell_type": "code",
   "execution_count": 16,
   "metadata": {},
   "outputs": [],
   "source": [
    "DB_NAME = 'employees'\n",
    "\n",
    "TABLES = {}\n",
    "TABLES['employees'] = (\n",
    "    \"CREATE TABLE employees (\"\n",
    "    \"  emp_no int(11) NOT NULL AUTO_INCREMENT,\"\n",
    "    \"  birth_date date NOT NULL,\"\n",
    "    \"  first_name varchar(14) NOT NULL,\"\n",
    "    \"  last_name varchar(16) NOT NULL,\"\n",
    "    \"  gender enum('M','F') NOT NULL,\"\n",
    "    \"  hire_date date NOT NULL,\"\n",
    "    \"  PRIMARY KEY (emp_no)\"\n",
    "    \") ENGINE=InnoDB\")\n",
    "\n",
    "TABLES['departments'] = (\n",
    "    \"CREATE TABLE departments (\"\n",
    "    \"  dept_no char(4) NOT NULL,\"\n",
    "    \"  dept_name varchar(40) NOT NULL,\"\n",
    "    \"  PRIMARY KEY (dept_no), UNIQUE KEY dept_name (dept_name)\"\n",
    "    \") ENGINE=InnoDB\")\n",
    "\n",
    "TABLES['salaries'] = (\n",
    "    \"CREATE TABLE salaries (\"\n",
    "    \"  emp_no int(11) NOT NULL,\"\n",
    "    \"  salary int(11) NOT NULL,\"\n",
    "    \"  from_date date NOT NULL,\"\n",
    "    \"  to_date date NOT NULL,\"\n",
    "    \"  PRIMARY KEY (emp_no,from_date), KEY emp_no (emp_no),\"\n",
    "    \"  CONSTRAINT salaries_ibfk_1 FOREIGN KEY (emp_no) \"\n",
    "    \"     REFERENCES employees (emp_no) ON DELETE CASCADE\"\n",
    "    \") ENGINE=InnoDB\")\n",
    "\n",
    "TABLES['dept_emp'] = (\n",
    "    \"CREATE TABLE dept_emp (\"\n",
    "    \"  emp_no int(11) NOT NULL,\"\n",
    "    \"  dept_no char(4) NOT NULL,\"\n",
    "    \"  from_date date NOT NULL,\"\n",
    "    \"  to_date date NOT NULL,\"\n",
    "    \"  PRIMARY KEY (emp_no,dept_no), KEY emp_no (emp_no),\"\n",
    "    \"  KEY dept_no (dept_no),\"\n",
    "    \"  CONSTRAINT dept_emp_ibfk_1 FOREIGN KEY (emp_no) \"\n",
    "    \"     REFERENCES employees (emp_no) ON DELETE CASCADE,\"\n",
    "    \"  CONSTRAINT dept_emp_ibfk_2 FOREIGN KEY (dept_no) \"\n",
    "    \"     REFERENCES departments (dept_no) ON DELETE CASCADE\"\n",
    "    \") ENGINE=InnoDB\")\n",
    "\n",
    "TABLES['dept_manager'] = (\n",
    "    \"  CREATE TABLE dept_manager (\"\n",
    "    \"  dept_no char(4) NOT NULL,\"\n",
    "    \"  emp_no int(11) NOT NULL,\"\n",
    "    \"  from_date date NOT NULL,\"\n",
    "    \"  to_date date NOT NULL,\"\n",
    "    \"  PRIMARY KEY (emp_no,dept_no),\"\n",
    "    \"  KEY emp_no (emp_no),\"\n",
    "    \"  KEY dept_no (dept_no),\"\n",
    "    \"  CONSTRAINT dept_manager_ibfk_1 FOREIGN KEY (emp_no) \"\n",
    "    \"     REFERENCES employees (emp_no) ON DELETE CASCADE,\"\n",
    "    \"  CONSTRAINT dept_manager_ibfk_2 FOREIGN KEY (dept_no) \"\n",
    "    \"     REFERENCES departments (dept_no) ON DELETE CASCADE\"\n",
    "    \") ENGINE=InnoDB\")\n",
    "\n",
    "TABLES['titles'] = (\n",
    "    \"CREATE TABLE titles (\"\n",
    "    \"  emp_no int(11) NOT NULL,\"\n",
    "    \"  title varchar(50) NOT NULL,\"\n",
    "    \"  from_date date NOT NULL,\"\n",
    "    \"  to_date date DEFAULT NULL,\"\n",
    "    \"  PRIMARY KEY (emp_no,title,from_date), KEY emp_no (emp_no),\"\n",
    "    \"  CONSTRAINT titles_ibfk_1 FOREIGN KEY (emp_no)\"\n",
    "    \"     REFERENCES employees (emp_no) ON DELETE CASCADE\"\n",
    "    \") ENGINE=InnoDB\")"
   ]
  },
  {
   "cell_type": "code",
   "execution_count": 17,
   "metadata": {},
   "outputs": [
    {
     "data": {
      "text/plain": [
       "\"CREATE TABLE employees (  emp_no int(11) NOT NULL AUTO_INCREMENT,  birth_date date NOT NULL,  first_name varchar(14) NOT NULL,  last_name varchar(16) NOT NULL,  gender enum('M','F') NOT NULL,  hire_date date NOT NULL,  PRIMARY KEY (emp_no)) ENGINE=InnoDB\""
      ]
     },
     "execution_count": 17,
     "metadata": {},
     "output_type": "execute_result"
    }
   ],
   "source": [
    "TABLES['employees']"
   ]
  },
  {
   "cell_type": "code",
   "execution_count": 18,
   "metadata": {},
   "outputs": [],
   "source": [
    "cnx = mysql.connector.connect(\n",
    "    host = config.host,\n",
    "    user = config.user,\n",
    "    passwd = config.password,\n",
    "    database = DB_NAME\n",
    ")\n",
    "cursor = cnx.cursor()"
   ]
  },
  {
   "cell_type": "code",
   "execution_count": 19,
   "metadata": {},
   "outputs": [
    {
     "name": "stdout",
     "output_type": "stream",
     "text": [
      "Creating table employees: already exists.\n",
      "Creating table departments: OK\n",
      "Creating table salaries: OK\n",
      "Creating table dept_emp: OK\n",
      "Creating table dept_manager: OK\n",
      "Creating table titles: OK\n"
     ]
    }
   ],
   "source": [
    "for table_name in TABLES:\n",
    "    table_description = TABLES[table_name]\n",
    "    try:\n",
    "        print(\"Creating table {}: \".format(table_name), end='')\n",
    "        cursor.execute(table_description)\n",
    "    except mysql.connector.Error as err:\n",
    "        if err.errno == errorcode.ER_TABLE_EXISTS_ERROR:\n",
    "            print(\"already exists.\")\n",
    "        else:\n",
    "            print(err.msg)\n",
    "    else:\n",
    "        print(\"OK\")\n",
    "\n",
    "cursor.close()\n",
    "cnx.close()"
   ]
  },
  {
   "cell_type": "markdown",
   "metadata": {},
   "source": [
    "## Inserting Data"
   ]
  },
  {
   "cell_type": "code",
   "execution_count": 21,
   "metadata": {},
   "outputs": [],
   "source": [
    "from datetime import date, datetime, timedelta\n",
    "\n",
    "#since we closed the connection, we need to reinstatiate it\n",
    "cnx = mysql.connector.connect(\n",
    "    host = config.host,\n",
    "    user = config.user,\n",
    "    passwd = config.password,\n",
    "    database = DB_NAME\n",
    ")\n",
    "cursor = cnx.cursor()\n",
    "\n",
    "tomorrow = datetime.now().date() + timedelta(days=1)\n",
    "\n",
    "add_employee = (\"INSERT INTO employees \"\n",
    "               \"(first_name, last_name, hire_date, gender, birth_date) \"\n",
    "               \"VALUES (%s, %s, %s, %s, %s)\")\n",
    "add_salary = (\"INSERT INTO salaries \"\n",
    "              \"(emp_no, salary, from_date, to_date) \"\n",
    "              \"VALUES (%(emp_no)s, %(salary)s, %(from_date)s, %(to_date)s)\")\n",
    "\n",
    "data_employee = ('Geert', 'Vanderkelen', tomorrow, 'M', date(1977, 6, 14))\n",
    "\n"
   ]
  },
  {
   "cell_type": "code",
   "execution_count": null,
   "metadata": {},
   "outputs": [],
   "source": [
    "# Insert new employee\n",
    "cursor.execute(add_employee, data_employee)\n",
    "emp_no = cursor.lastrowid\n",
    "\n",
    "# Insert salary information\n",
    "data_salary = {\n",
    "  'emp_no': emp_no,\n",
    "  'salary': 50000,\n",
    "  'from_date': tomorrow,\n",
    "  'to_date': date(9999, 1, 1),\n",
    "}\n",
    "cursor.execute(add_salary, data_salary)\n",
    "\n",
    "# Make sure data is committed to the database\n",
    "cnx.commit()\n",
    "\n",
    "cursor.close()\n",
    "cnx.close()"
   ]
  },
  {
   "cell_type": "markdown",
   "metadata": {},
   "source": [
    "## Insert Many"
   ]
  },
  {
   "cell_type": "markdown",
   "metadata": {},
   "source": [
    "cursor.executemany(operation, seq_of_params)"
   ]
  },
  {
   "cell_type": "code",
   "execution_count": null,
   "metadata": {},
   "outputs": [],
   "source": [
    "cnx = mysql.connector.connect(\n",
    "    host = config.host,\n",
    "    user = config.user,\n",
    "    passwd = config.password,\n",
    "    database = DB_NAME\n",
    ")\n",
    "cursor = cnx.cursor()"
   ]
  },
  {
   "cell_type": "code",
   "execution_count": null,
   "metadata": {},
   "outputs": [],
   "source": [
    "data = [\n",
    "  ('Jane', date(2005, 2, 12)),\n",
    "  ('Joe', date(2006, 5, 23)),\n",
    "  ('John', date(2010, 10, 3)),\n",
    "]\n",
    "stmt = \"INSERT INTO employees (first_name, hire_date) VALUES (%s, %s)\"\n",
    "cursor.executemany(stmt, data)"
   ]
  },
  {
   "cell_type": "markdown",
   "metadata": {},
   "source": [
    "## Quyerying the DB"
   ]
  },
  {
   "cell_type": "code",
   "execution_count": null,
   "metadata": {},
   "outputs": [],
   "source": [
    "cnx = mysql.connector.connect(\n",
    "    host = config.host,\n",
    "    user = config.user,\n",
    "    passwd = config.password,\n",
    "    database = DB_NAME\n",
    ")\n",
    "cursor = cnx.cursor()"
   ]
  },
  {
   "cell_type": "code",
   "execution_count": null,
   "metadata": {},
   "outputs": [],
   "source": [
    "\n",
    "query = (\"SELECT first_name, last_name, hire_date FROM employees \"\n",
    "         \"WHERE hire_date BETWEEN %s AND %s\")\n",
    "\n",
    "hire_start = datetime.date(1999, 1, 1)\n",
    "hire_end = datetime.date(1999, 12, 31)\n",
    "\n",
    "cursor.execute(query, (hire_start, hire_end))\n",
    "\n",
    "for (first_name, last_name, hire_date) in cursor:\n",
    "  print(\"{}, {} was hired on {:%d %b %Y}\".format(\n",
    "    last_name, first_name, hire_date))\n",
    "\n",
    "cursor.close()\n",
    "cnx.close()"
   ]
  }
 ],
 "metadata": {
  "kernelspec": {
   "display_name": "Python 3",
   "language": "python",
   "name": "python3"
  },
  "language_info": {
   "codemirror_mode": {
    "name": "ipython",
    "version": 3
   },
   "file_extension": ".py",
   "mimetype": "text/x-python",
   "name": "python",
   "nbconvert_exporter": "python",
   "pygments_lexer": "ipython3",
   "version": "3.7.4"
  }
 },
 "nbformat": 4,
 "nbformat_minor": 4
}
