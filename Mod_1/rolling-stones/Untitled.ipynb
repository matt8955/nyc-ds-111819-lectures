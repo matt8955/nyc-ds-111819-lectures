{
 "cells": [
  {
   "cell_type": "code",
   "execution_count": 1,
   "metadata": {},
   "outputs": [],
   "source": [
    "import csv"
   ]
  },
  {
   "cell_type": "code",
   "execution_count": 10,
   "metadata": {},
   "outputs": [],
   "source": [
    "with open('data.csv') as f:\n",
    "    # we are using DictReader because we want our information to be in dictionary format.\n",
    "    reader = csv.DictReader(f)\n",
    "    # some more code\n",
    "    rolling = []\n",
    "    for row in reader:\n",
    "        rolling.append(row)"
   ]
  },
  {
   "cell_type": "code",
   "execution_count": 15,
   "metadata": {},
   "outputs": [],
   "source": [
    "def find_by_name(album, d):\n",
    "    for x in d:\n",
    "        if x['album'] == album:\n",
    "            return dict(x)\n",
    "    return None"
   ]
  },
  {
   "cell_type": "code",
   "execution_count": 17,
   "metadata": {},
   "outputs": [
    {
     "data": {
      "text/plain": [
       "{'number': '1',\n",
       " 'year': '1967',\n",
       " 'album': \"Sgt. Pepper's Lonely Hearts Club Band\",\n",
       " 'artist': 'The Beatles',\n",
       " 'genre': 'Rock',\n",
       " 'subgenre': 'Rock & Roll, Psychedelic Rock'}"
      ]
     },
     "execution_count": 17,
     "metadata": {},
     "output_type": "execute_result"
    }
   ],
   "source": [
    "find_by_name(\"Sgt. Pepper's Lonely Hearts Club Band\", rolling)"
   ]
  },
  {
   "cell_type": "code",
   "execution_count": 18,
   "metadata": {},
   "outputs": [],
   "source": [
    "def find_by_rank(rank, d):\n",
    "    for x in d:\n",
    "        if x['number'] == rank:\n",
    "            return dict(x)\n",
    "    return None"
   ]
  },
  {
   "cell_type": "code",
   "execution_count": 19,
   "metadata": {},
   "outputs": [
    {
     "data": {
      "text/plain": [
       "{'number': '1',\n",
       " 'year': '1967',\n",
       " 'album': \"Sgt. Pepper's Lonely Hearts Club Band\",\n",
       " 'artist': 'The Beatles',\n",
       " 'genre': 'Rock',\n",
       " 'subgenre': 'Rock & Roll, Psychedelic Rock'}"
      ]
     },
     "execution_count": 19,
     "metadata": {},
     "output_type": "execute_result"
    }
   ],
   "source": [
    "find_by_rank('1', rolling)"
   ]
  },
  {
   "cell_type": "code",
   "execution_count": null,
   "metadata": {},
   "outputs": [],
   "source": [
    "def find_by_ranks"
   ]
  }
 ],
 "metadata": {
  "kernelspec": {
   "display_name": "Python 3",
   "language": "python",
   "name": "python3"
  },
  "language_info": {
   "codemirror_mode": {
    "name": "ipython",
    "version": 3
   },
   "file_extension": ".py",
   "mimetype": "text/x-python",
   "name": "python",
   "nbconvert_exporter": "python",
   "pygments_lexer": "ipython3",
   "version": "3.7.4"
  }
 },
 "nbformat": 4,
 "nbformat_minor": 4
}
